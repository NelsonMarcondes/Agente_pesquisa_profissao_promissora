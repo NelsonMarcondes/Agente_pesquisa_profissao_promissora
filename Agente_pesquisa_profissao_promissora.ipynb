{
  "nbformat": 4,
  "nbformat_minor": 0,
  "metadata": {
    "colab": {
      "provenance": []
    },
    "kernelspec": {
      "name": "python3",
      "display_name": "Python 3"
    },
    "language_info": {
      "name": "python"
    }
  },
  "cells": [
    {
      "cell_type": "code",
      "source": [
        "%pip -q install google-genai"
      ],
      "metadata": {
        "id": "UCCbECexLk_h"
      },
      "execution_count": 1,
      "outputs": []
    },
    {
      "cell_type": "code",
      "source": [
        "# Configura a API Key do Google Gemini\n",
        "\n",
        "import os\n",
        "from google.colab import userdata\n",
        "\n",
        "os.environ[\"GOOGLE_API_KEY\"] = userdata.get('GOOGLE_API_KEY')"
      ],
      "metadata": {
        "id": "NfCqHo1tLk8P"
      },
      "execution_count": 2,
      "outputs": []
    },
    {
      "cell_type": "code",
      "source": [
        "# Configura o cliente da SDK do Gemini\n",
        "\n",
        "from google import genai\n",
        "\n",
        "client = genai.Client()\n",
        "\n",
        "MODEL_ID = \"gemini-2.0-flash\""
      ],
      "metadata": {
        "id": "bV4w0H5TLk5g"
      },
      "execution_count": 3,
      "outputs": []
    },
    {
      "cell_type": "code",
      "source": [
        "# Pergunta ao Gemini uma informação mais recente que seu conhecimento\n",
        "\n",
        "from IPython.display import HTML, Markdown\n",
        "from google import genai # Import genai para usar o cliente\n",
        "\n",
        "# Perguntar pro modelo quando é a profissão mais promissora neste momento?\n",
        "# ###############################################\n",
        "\n",
        "# Chama o modelo do Gemini e armazena a resposta na variável 'resposta'\n",
        "# Assume-se que 'client' e 'MODEL_ID' estão definidos em células anteriores\n",
        "resposta = client.models.generate_content(\n",
        "    model=MODEL_ID,\n",
        "    contents='Qual é a profissão mais promissora neste momento?'\n",
        ")\n",
        "\n",
        "# Exibe a resposta na tela\n",
        "display(Markdown(f\"Resposta:\\n {resposta.text}\"))"
      ],
      "metadata": {
        "id": "HwVP7Xi34Zuw",
        "colab": {
          "base_uri": "https://localhost:8080/",
          "height": 760
        },
        "outputId": "ccf035cf-7506-448c-d249-3458d9ec2c07"
      },
      "execution_count": 10,
      "outputs": [
        {
          "output_type": "display_data",
          "data": {
            "text/plain": [
              "<IPython.core.display.Markdown object>"
            ],
            "text/markdown": "Resposta:\n É difícil apontar uma única profissão como \"a mais promissora\", pois a promessa de uma carreira depende muito de seus interesses, habilidades, localização e da velocidade das mudanças tecnológicas. No entanto, algumas áreas se destacam por seu crescimento e demanda atuais:\n\n**Tecnologia:**\n\n*   **Inteligência Artificial (IA) e Machine Learning (ML):** Engenheiros de IA/ML, cientistas de dados, desenvolvedores de IA são altamente procurados para criar e implementar soluções inovadoras em diversas indústrias.\n*   **Análise de Dados:** Com o volume crescente de dados, analistas e cientistas de dados são essenciais para extrair insights valiosos que auxiliam na tomada de decisões estratégicas.\n*   **Desenvolvimento de Software e Aplicativos:** Desenvolvedores full-stack, desenvolvedores mobile, especialistas em front-end e back-end continuam em alta demanda para criar e manter softwares e aplicativos.\n*   **Cibersegurança:** Com o aumento das ameaças cibernéticas, profissionais de segurança da informação são cruciais para proteger dados e sistemas de empresas e organizações.\n*   **Cloud Computing:** Especialistas em computação em nuvem, como arquitetos de soluções cloud e engenheiros de DevOps, são necessários para gerenciar e otimizar infraestruturas na nuvem.\n\n**Saúde:**\n\n*   **Profissionais de Enfermagem:** A demanda por enfermeiros(as) continua alta devido ao envelhecimento da população e à necessidade de cuidados de saúde abrangentes.\n*   **Técnicos de Saúde:** Técnicos em diversas áreas, como radiologia, laboratório e farmácia, também são muito requisitados.\n*   **Medicina:** Especialidades como geriatria, oncologia e telemedicina estão em crescimento.\n\n**Outras Áreas em Ascensão:**\n\n*   **Energias Renováveis:** Engenheiros, técnicos e especialistas em energia solar, eólica e outras fontes renováveis são necessários para impulsionar a transição energética.\n*   **Marketing Digital:** Com o crescimento do comércio eletrônico e das redes sociais, profissionais de marketing digital, como especialistas em SEO, mídias sociais e marketing de conteúdo, são essenciais para promover produtos e serviços online.\n*   **Logística e Cadeia de Suprimentos:** A otimização da cadeia de suprimentos é crucial para garantir a eficiência na distribuição de produtos, impulsionando a demanda por profissionais nessa área.\n\n**Para tomar uma decisão mais informada, considere:**\n\n*   **Seus Interesses e Habilidades:** Escolha uma área que te motive e que se alinhe com suas aptidões.\n*   **Tendências do Mercado:** Pesquise as áreas que estão em crescimento e que oferecem boas perspectivas de emprego.\n*   **Formação e Qualificação:** Invista em educação e treinamento para adquirir as habilidades necessárias para a profissão desejada.\n*   **Networking:** Conecte-se com profissionais da área para obter informações e oportunidades.\n\nLembre-se que o mercado de trabalho está em constante evolução, portanto, é importante manter-se atualizado e adaptar-se às novas tecnologias e tendências."
          },
          "metadata": {}
        }
      ]
    },
    {
      "cell_type": "code",
      "source": [
        "# Pergunta ao Gemini uma informação utilizando a busca do Google como contexto\n",
        "\n",
        "# Pergunta ao Gemini uma informação utilizando a busca do Google como contexto\n",
        "\n",
        "response = client.models.generate_content(\n",
        "    model=MODEL_ID,\n",
        "    contents='Qual é a profissão mais em alta para quem vai escolher um curso hoje?'\n",
        "    # Inserir a tool de busca do Google ###############################################\n",
        ")\n",
        "\n",
        "# Exibe a resposta na tela\n",
        "display(Markdown(f\"Resposta:\\n {response.text}\"))\n",
        "\n",
        "# Exibe a resposta na tela\n",
        "display(Markdown(f\"Resposta:\\n {response.text}\"))"
      ],
      "metadata": {
        "id": "yXaZd7iZ4ftw",
        "colab": {
          "base_uri": "https://localhost:8080/",
          "height": 1000
        },
        "outputId": "cacacc76-3177-4e37-db6b-6d4203536c2a"
      },
      "execution_count": 11,
      "outputs": [
        {
          "output_type": "display_data",
          "data": {
            "text/plain": [
              "<IPython.core.display.Markdown object>"
            ],
            "text/markdown": "Resposta:\n É difícil cravar uma única profissão como \"a mais em alta\", porque o mercado de trabalho é dinâmico e as demandas variam de acordo com diversos fatores, como região, setor da economia e avanços tecnológicos. No entanto, algumas áreas e profissões se destacam pela alta demanda e potencial de crescimento nos próximos anos:\n\n**Áreas em alta:**\n\n*   **Tecnologia da Informação (TI):** A transformação digital impulsiona a demanda por profissionais em desenvolvimento de software, análise de dados, segurança cibernética, inteligência artificial, machine learning, cloud computing e áreas correlatas.\n*   **Saúde:** O envelhecimento da população e o aumento da preocupação com o bem-estar impulsionam a demanda por profissionais em diversas áreas, como medicina, enfermagem, fisioterapia, nutrição, biomedicina, farmácia e gerontologia.\n*   **Engenharia:** Engenheiros de diversas especialidades (civil, ambiental, mecânica, elétrica, de produção) são demandados para projetos de infraestrutura, energia, sustentabilidade e inovação.\n*   **Marketing Digital:** A presença online é fundamental para empresas de todos os portes, o que gera demanda por profissionais em áreas como SEO, marketing de conteúdo, mídias sociais, e-commerce e análise de dados.\n*   **Finanças:** Profissionais com habilidades em análise financeira, gestão de investimentos, planejamento financeiro e fintechs são cada vez mais requisitados.\n\n**Profissões específicas com alta demanda:**\n\n*   **Desenvolvedor de Software:** Criação e manutenção de softwares e aplicativos.\n*   **Cientista de Dados:** Análise de grandes volumes de dados para gerar insights e soluções.\n*   **Especialista em Segurança Cibernética:** Proteção de sistemas e dados contra ataques cibernéticos.\n*   **Analista de Marketing Digital:** Criação e gestão de estratégias de marketing online.\n*   **Profissionais de Saúde:** Médicos, enfermeiros, fisioterapeutas, etc.\n*   **Engenheiros:** Civil, ambiental, mecânico, etc.\n*   **Profissional de Recursos Humanos:** Recrutamento, treinamento e desenvolvimento de pessoas.\n*   **Profissional de Vendas:** Vendas consultivas e técnicas.\n\n**Fatores importantes a considerar ao escolher uma profissão:**\n\n*   **Seus Interesses e Habilidades:** Escolha uma área que te motive e que esteja alinhada com suas aptidões.\n*   **Tendências do Mercado:** Pesquise sobre as áreas com maior potencial de crescimento e demanda.\n*   **Formação e Qualificação:** Invista em cursos de qualidade e busque se manter atualizado com as novidades do mercado.\n*   **Networking:** Construa uma rede de contatos profissionais para aumentar suas oportunidades.\n*   **Habilidades Transversais (Soft Skills):** Desenvolva habilidades como comunicação, trabalho em equipe, liderança, resolução de problemas e pensamento crítico.\n\n**Recursos úteis para pesquisa:**\n\n*   **Sites de Emprego:** Catho, Infojobs, LinkedIn, etc.\n*   **Pesquisas de Mercado:** Consultorias especializadas em recrutamento e seleção (Michael Page, Robert Half, etc.).\n*   **Notícias e Artigos:** Publicações sobre tendências do mercado de trabalho.\n*   **Feiras e Eventos:** Participar de eventos da área para conhecer empresas e profissionais.\n\nLembre-se que a escolha de uma profissão é uma decisão pessoal e que deve levar em conta seus objetivos e valores. Pesquise, converse com profissionais da área e faça um planejamento de carreira para tomar a melhor decisão para o seu futuro."
          },
          "metadata": {}
        },
        {
          "output_type": "display_data",
          "data": {
            "text/plain": [
              "<IPython.core.display.Markdown object>"
            ],
            "text/markdown": "Resposta:\n É difícil cravar uma única profissão como \"a mais em alta\", porque o mercado de trabalho é dinâmico e as demandas variam de acordo com diversos fatores, como região, setor da economia e avanços tecnológicos. No entanto, algumas áreas e profissões se destacam pela alta demanda e potencial de crescimento nos próximos anos:\n\n**Áreas em alta:**\n\n*   **Tecnologia da Informação (TI):** A transformação digital impulsiona a demanda por profissionais em desenvolvimento de software, análise de dados, segurança cibernética, inteligência artificial, machine learning, cloud computing e áreas correlatas.\n*   **Saúde:** O envelhecimento da população e o aumento da preocupação com o bem-estar impulsionam a demanda por profissionais em diversas áreas, como medicina, enfermagem, fisioterapia, nutrição, biomedicina, farmácia e gerontologia.\n*   **Engenharia:** Engenheiros de diversas especialidades (civil, ambiental, mecânica, elétrica, de produção) são demandados para projetos de infraestrutura, energia, sustentabilidade e inovação.\n*   **Marketing Digital:** A presença online é fundamental para empresas de todos os portes, o que gera demanda por profissionais em áreas como SEO, marketing de conteúdo, mídias sociais, e-commerce e análise de dados.\n*   **Finanças:** Profissionais com habilidades em análise financeira, gestão de investimentos, planejamento financeiro e fintechs são cada vez mais requisitados.\n\n**Profissões específicas com alta demanda:**\n\n*   **Desenvolvedor de Software:** Criação e manutenção de softwares e aplicativos.\n*   **Cientista de Dados:** Análise de grandes volumes de dados para gerar insights e soluções.\n*   **Especialista em Segurança Cibernética:** Proteção de sistemas e dados contra ataques cibernéticos.\n*   **Analista de Marketing Digital:** Criação e gestão de estratégias de marketing online.\n*   **Profissionais de Saúde:** Médicos, enfermeiros, fisioterapeutas, etc.\n*   **Engenheiros:** Civil, ambiental, mecânico, etc.\n*   **Profissional de Recursos Humanos:** Recrutamento, treinamento e desenvolvimento de pessoas.\n*   **Profissional de Vendas:** Vendas consultivas e técnicas.\n\n**Fatores importantes a considerar ao escolher uma profissão:**\n\n*   **Seus Interesses e Habilidades:** Escolha uma área que te motive e que esteja alinhada com suas aptidões.\n*   **Tendências do Mercado:** Pesquise sobre as áreas com maior potencial de crescimento e demanda.\n*   **Formação e Qualificação:** Invista em cursos de qualidade e busque se manter atualizado com as novidades do mercado.\n*   **Networking:** Construa uma rede de contatos profissionais para aumentar suas oportunidades.\n*   **Habilidades Transversais (Soft Skills):** Desenvolva habilidades como comunicação, trabalho em equipe, liderança, resolução de problemas e pensamento crítico.\n\n**Recursos úteis para pesquisa:**\n\n*   **Sites de Emprego:** Catho, Infojobs, LinkedIn, etc.\n*   **Pesquisas de Mercado:** Consultorias especializadas em recrutamento e seleção (Michael Page, Robert Half, etc.).\n*   **Notícias e Artigos:** Publicações sobre tendências do mercado de trabalho.\n*   **Feiras e Eventos:** Participar de eventos da área para conhecer empresas e profissionais.\n\nLembre-se que a escolha de uma profissão é uma decisão pessoal e que deve levar em conta seus objetivos e valores. Pesquise, converse com profissionais da área e faça um planejamento de carreira para tomar a melhor decisão para o seu futuro."
          },
          "metadata": {}
        }
      ]
    }
  ]
}